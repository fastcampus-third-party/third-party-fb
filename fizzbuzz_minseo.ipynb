{
 "cells": [
  {
   "cell_type": "code",
   "execution_count": null,
   "id": "618b6062",
   "metadata": {},
   "outputs": [
    {
     "name": "stdout",
     "output_type": "stream",
     "text": [
      "\n",
      "buzz\n",
      "\n",
      "\n",
      "buzz\n",
      "\n",
      "buzz\n"
     ]
    }
   ],
   "source": [
    "for i in range(1, 15+1):\n",
    "    if i % 3 == 0 or i % 5 == 0:\n",
    "        print(\"fizz\" * (i*3 == 0) + \"buzz\"*(i%5 == 0))\n",
    "    else:\n",
    "        print(i)"
   ]
  }
 ],
 "metadata": {
  "kernelspec": {
   "display_name": "py3_11_9",
   "language": "python",
   "name": "python3"
  },
  "language_info": {
   "codemirror_mode": {
    "name": "ipython",
    "version": 3
   },
   "file_extension": ".py",
   "mimetype": "text/x-python",
   "name": "python",
   "nbconvert_exporter": "python",
   "pygments_lexer": "ipython3",
   "version": "3.11.9"
  }
 },
 "nbformat": 4,
 "nbformat_minor": 5
}
